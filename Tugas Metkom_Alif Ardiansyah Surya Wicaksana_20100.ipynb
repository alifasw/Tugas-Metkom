{
 "cells": [
  {
   "cell_type": "code",
   "execution_count": 2,
   "metadata": {
    "scrolled": true
   },
   "outputs": [
    {
     "name": "stdout",
     "output_type": "stream",
     "text": [
      "#=============================================#\n",
      "#                                             #\n",
      "#             program hello.py                #\n",
      "#   by alifardiansyah300301@mail.ugm.ac.id    #\n",
      "#                                             #\n",
      "#=============================================#\n",
      "Nama    : Alif Ardiansyah Surya Wicaksana\n",
      "NIM     : 20/462128/PA/20100\n",
      "Fakultas: MIPA\n",
      "Prodi   : Geofisika\n",
      "SEMOGA TUGAS KOMPUTASINYA TIDAK SUSAH... AAMIIN...\n"
     ]
    }
   ],
   "source": [
    "print (\"#=============================================#\")\n",
    "print (\"#                                             #\")\n",
    "print (\"#             program hello.py                #\")\n",
    "print (\"#   by alifardiansyah300301@mail.ugm.ac.id    #\")\n",
    "print (\"#                                             #\")\n",
    "print (\"#=============================================#\")\n",
    "print (\"Nama    : Alif Ardiansyah Surya Wicaksana\")\n",
    "print (\"NIM     : 20/462128/PA/20100\")\n",
    "print (\"Fakultas: MIPA\")\n",
    "print (\"Prodi   : Geofisika\")\n",
    "print (\"SEMOGA TUGAS KOMPUTASINYA TIDAK SUSAH... AAMIIN...\")"
   ]
  },
  {
   "cell_type": "code",
   "execution_count": null,
   "metadata": {},
   "outputs": [],
   "source": []
  },
  {
   "cell_type": "code",
   "execution_count": null,
   "metadata": {},
   "outputs": [],
   "source": []
  },
  {
   "cell_type": "code",
   "execution_count": null,
   "metadata": {},
   "outputs": [],
   "source": []
  }
 ],
 "metadata": {
  "kernelspec": {
   "display_name": "Python 3",
   "language": "python",
   "name": "python3"
  },
  "language_info": {
   "codemirror_mode": {
    "name": "ipython",
    "version": 3
   },
   "file_extension": ".py",
   "mimetype": "text/x-python",
   "name": "python",
   "nbconvert_exporter": "python",
   "pygments_lexer": "ipython3",
   "version": "3.8.5"
  }
 },
 "nbformat": 4,
 "nbformat_minor": 4
}
